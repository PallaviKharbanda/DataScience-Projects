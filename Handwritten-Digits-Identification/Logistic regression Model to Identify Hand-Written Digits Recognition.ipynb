{
 "cells": [
  {
   "cell_type": "markdown",
   "metadata": {},
   "source": [
    "### This Project is related to multi-classification problem related to identify Hand-Written Digits Recognition.\n",
    "\n",
    "Data Set: load_digits\n",
    "\n",
    "Problem: To identify Hand-Written Digits Recognition.\n",
    "\n",
    "Model Used: Logistic Regression"
   ]
  },
  {
   "cell_type": "code",
   "execution_count": 1,
   "metadata": {},
   "outputs": [],
   "source": [
    "from sklearn.datasets import load_digits\n",
    "%matplotlib inline\n",
    "import matplotlib.pyplot as plt\n",
    "digits = load_digits()"
   ]
  },
  {
   "cell_type": "code",
   "execution_count": 2,
   "metadata": {},
   "outputs": [
    {
     "data": {
      "text/plain": [
       "['DESCR', 'data', 'images', 'target', 'target_names']"
      ]
     },
     "execution_count": 2,
     "metadata": {},
     "output_type": "execute_result"
    }
   ],
   "source": [
    "dir(digits)"
   ]
  },
  {
   "cell_type": "code",
   "execution_count": 3,
   "metadata": {},
   "outputs": [
    {
     "data": {
      "text/plain": [
       "<Figure size 432x288 with 0 Axes>"
      ]
     },
     "metadata": {},
     "output_type": "display_data"
    },
    {
     "data": {
      "image/png": "[encoded data removed]",
      "text/plain": [
       "<Figure size 288x288 with 1 Axes>"
      ]
     },
     "metadata": {
      "needs_background": "light"
     },
     "output_type": "display_data"
    },
    {
     "data": {
      "image/png": "[encoded data removed]",
      "text/plain": [
       "<Figure size 288x288 with 1 Axes>"
      ]
     },
     "metadata": {
      "needs_background": "light"
     },
     "output_type": "display_data"
    },
    {
     "data": {
      "image/png": "[encoded data removed]",
      "text/plain": [
       "<Figure size 288x288 with 1 Axes>"
      ]
     },
     "metadata": {
      "needs_background": "light"
     },
     "output_type": "display_data"
    }
   ],
   "source": [
    "plt.gray() \n",
    "for i in range(3):\n",
    "    plt.matshow(digits.images[i])"
   ]
  },
  {
   "cell_type": "code",
   "execution_count": 4,
   "metadata": {},
   "outputs": [
    {
     "data": {
      "text/plain": [
       "array([ 0.,  0.,  5., 13.,  9.,  1.,  0.,  0.,  0.,  0., 13., 15., 10.,\n",
       "       15.,  5.,  0.,  0.,  3., 15.,  2.,  0., 11.,  8.,  0.,  0.,  4.,\n",
       "       12.,  0.,  0.,  8.,  8.,  0.,  0.,  5.,  8.,  0.,  0.,  9.,  8.,\n",
       "        0.,  0.,  4., 11.,  0.,  1., 12.,  7.,  0.,  0.,  2., 14.,  5.,\n",
       "       10., 12.,  0.,  0.,  0.,  0.,  6., 13., 10.,  0.,  0.,  0.])"
      ]
     },
     "execution_count": 4,
     "metadata": {},
     "output_type": "execute_result"
    }
   ],
   "source": [
    "digits[\"data\"][0]"
   ]
  },
  {
   "cell_type": "markdown",
   "metadata": {},
   "source": [
    "### Create and train logistic regression model"
   ]
  },
  {
   "cell_type": "code",
   "execution_count": 5,
   "metadata": {},
   "outputs": [],
   "source": [
    "from sklearn.linear_model import LogisticRegression\n",
    "model = LogisticRegression()"
   ]
  },
  {
   "cell_type": "code",
   "execution_count": 6,
   "metadata": {},
   "outputs": [],
   "source": [
    "from sklearn.model_selection import train_test_split"
   ]
  },
  {
   "cell_type": "code",
   "execution_count": 7,
   "metadata": {},
   "outputs": [],
   "source": [
    "X_train, X_test, y_train, y_test = train_test_split(digits.data,digits.target, test_size=0.2)"
   ]
  },
  {
   "cell_type": "code",
   "execution_count": 8,
   "metadata": {},
   "outputs": [
    {
     "name": "stderr",
     "output_type": "stream",
     "text": [
      "/opt/anaconda3/lib/python3.7/site-packages/sklearn/linear_model/_logistic.py:940: ConvergenceWarning: lbfgs failed to converge (status=1):\n",
      "STOP: TOTAL NO. of ITERATIONS REACHED LIMIT.\n",
      "\n",
      "Increase the number of iterations (max_iter) or scale the data as shown in:\n",
      "    https://scikit-learn.org/stable/modules/preprocessing.html\n",
      "Please also refer to the documentation for alternative solver options:\n",
      "    https://scikit-learn.org/stable/modules/linear_model.html#logistic-regression\n",
      "  extra_warning_msg=_LOGISTIC_SOLVER_CONVERGENCE_MSG)\n"
     ]
    },
    {
     "data": {
      "text/plain": [
       "LogisticRegression(C=1.0, class_weight=None, dual=False, fit_intercept=True,\n",
       "                   intercept_scaling=1, l1_ratio=None, max_iter=100,\n",
       "                   multi_class='auto', n_jobs=None, penalty='l2',\n",
       "                   random_state=None, solver='lbfgs', tol=0.0001, verbose=0,\n",
       "                   warm_start=False)"
      ]
     },
     "execution_count": 8,
     "metadata": {},
     "output_type": "execute_result"
    }
   ],
   "source": [
    "model.fit(X_train, y_train)"
   ]
  },
  {
   "cell_type": "markdown",
   "metadata": {},
   "source": [
    "### Measure accuracy of our model"
   ]
  },
  {
   "cell_type": "code",
   "execution_count": 9,
   "metadata": {},
   "outputs": [
    {
     "data": {
      "text/plain": [
       "0.9555555555555556"
      ]
     },
     "execution_count": 9,
     "metadata": {},
     "output_type": "execute_result"
    }
   ],
   "source": [
    "model.score(X_test, y_test)"
   ]
  },
  {
   "cell_type": "code",
   "execution_count": 10,
   "metadata": {},
   "outputs": [
    {
     "data": {
      "text/plain": [
       "array([0, 1, 2, 3, 4])"
      ]
     },
     "execution_count": 10,
     "metadata": {},
     "output_type": "execute_result"
    }
   ],
   "source": [
    "model.predict(digits.data[0:5])"
   ]
  },
  {
   "cell_type": "markdown",
   "metadata": {},
   "source": [
    "### Logistic Regression model seems to be the model of good fit"
   ]
  },
  {
   "cell_type": "markdown",
   "metadata": {},
   "source": [
    "## Confusion Matrix (Visualizes where model is not doing well)"
   ]
  },
  {
   "cell_type": "code",
   "execution_count": 15,
   "metadata": {},
   "outputs": [
    {
     "data": {
      "text/plain": [
       "array([0, 5, 7, 4, 7, 6, 4, 8, 0, 3, 3, 1, 1, 1, 8, 8, 3, 8, 8, 9, 8, 8,\n",
       "       1, 2, 9, 8, 2, 7, 1, 7, 2, 9, 8, 5, 5, 5, 9, 3, 0, 3, 2, 1, 6, 4,\n",
       "       3, 3, 2, 3, 9, 7, 4, 9, 1, 1, 4, 7, 0, 9, 5, 3, 9, 0, 2, 7, 9, 6,\n",
       "       1, 8, 5, 8, 2, 7, 6, 5, 4, 2, 0, 6, 1, 5, 3, 8, 2, 4, 3, 9, 1, 0,\n",
       "       7, 6, 4, 0, 5, 1, 3, 5, 0, 0, 9, 1, 7, 9, 1, 4, 6, 3, 7, 5, 0, 8,\n",
       "       1, 4, 1, 1, 9, 7, 0, 3, 1, 9, 1, 0, 5, 5, 4, 3, 0, 9, 2, 3, 4, 3,\n",
       "       1, 9, 9, 9, 8, 1, 8, 3, 4, 2, 5, 2, 0, 2, 9, 4, 8, 2, 0, 3, 0, 3,\n",
       "       5, 8, 8, 6, 0, 2, 6, 2, 1, 9, 8, 4, 1, 2, 3, 6, 3, 2, 2, 3, 4, 7,\n",
       "       1, 3, 2, 4, 1, 5, 9, 5, 5, 0, 7, 9, 4, 9, 9, 0, 9, 9, 0, 3, 4, 7,\n",
       "       9, 7, 8, 1, 5, 3, 1, 8, 5, 9, 0, 3, 9, 3, 5, 4, 0, 4, 1, 4, 6, 2,\n",
       "       9, 3, 9, 2, 4, 2, 2, 4, 4, 4, 3, 0, 4, 9, 5, 6, 9, 3, 0, 7, 4, 7,\n",
       "       0, 7, 8, 2, 7, 4, 7, 6, 6, 5, 2, 1, 5, 1, 1, 3, 3, 2, 0, 6, 1, 7,\n",
       "       7, 1, 7, 8, 5, 0, 1, 5, 0, 0, 2, 4, 8, 7, 4, 1, 4, 6, 6, 7, 1, 6,\n",
       "       8, 0, 0, 8, 6, 2, 9, 0, 2, 7, 7, 8, 8, 4, 4, 3, 0, 4, 8, 5, 0, 2,\n",
       "       8, 8, 6, 9, 5, 9, 0, 4, 6, 6, 3, 6, 4, 8, 0, 4, 7, 9, 5, 2, 6, 3,\n",
       "       4, 8, 9, 2, 6, 7, 1, 6, 5, 6, 7, 8, 7, 7, 0, 3, 3, 8, 2, 0, 8, 3,\n",
       "       7, 9, 6, 0, 5, 6, 1, 3])"
      ]
     },
     "execution_count": 15,
     "metadata": {},
     "output_type": "execute_result"
    }
   ],
   "source": [
    "y_predicted = model.predict(X_test)\n",
    "y_predicted"
   ]
  },
  {
   "cell_type": "code",
   "execution_count": 14,
   "metadata": {},
   "outputs": [
    {
     "data": {
      "text/plain": [
       "array([[9.99992860e-01, 3.89758889e-13, 9.57928347e-11, ...,\n",
       "        5.48623119e-11, 4.10631106e-09, 8.03682115e-08],\n",
       "       [4.54757796e-01, 3.69525425e-12, 3.13933882e-11, ...,\n",
       "        3.87347661e-07, 7.02878314e-09, 1.17370290e-09],\n",
       "       [1.07736223e-15, 1.89584673e-09, 6.12245652e-09, ...,\n",
       "        9.99999847e-01, 1.89937703e-09, 9.31820739e-08],\n",
       "       ...,\n",
       "       [9.95320424e-08, 1.77260696e-11, 5.89332227e-12, ...,\n",
       "        3.34679882e-14, 3.08238344e-05, 3.64586930e-15],\n",
       "       [1.28128394e-15, 9.99950248e-01, 1.11656277e-05, ...,\n",
       "        3.82130396e-05, 3.65774401e-07, 1.03354218e-13],\n",
       "       [1.10355794e-10, 7.22448635e-08, 1.83638170e-04, ...,\n",
       "        2.07455297e-04, 2.89311405e-09, 5.47452148e-09]])"
      ]
     },
     "execution_count": 14,
     "metadata": {},
     "output_type": "execute_result"
    }
   ],
   "source": [
    "y_pred_prob=model.predict_proba(X_test)\n",
    "y_pred_prob"
   ]
  },
  {
   "cell_type": "code",
   "execution_count": 22,
   "metadata": {},
   "outputs": [
    {
     "data": {
      "text/plain": [
       "array([[37,  0,  0,  0,  0,  1,  0,  0,  0,  0],\n",
       "       [ 0, 25,  0,  0,  1,  0,  0,  0,  0,  0],\n",
       "       [ 0,  0, 29,  0,  0,  0,  0,  0,  0,  0],\n",
       "       [ 0,  0,  0, 40,  0,  0,  0,  0,  0,  1],\n",
       "       [ 0,  0,  0,  0, 29,  0,  0,  0,  0,  0],\n",
       "       [ 0,  0,  0,  1,  0, 38,  0,  0,  0,  1],\n",
       "       [ 0,  0,  0,  0,  0,  1, 39,  0,  0,  0],\n",
       "       [ 0,  0,  0,  0,  1,  0,  0, 44,  0,  0],\n",
       "       [ 0,  1,  0,  0,  0,  0,  0,  0, 34,  0],\n",
       "       [ 1,  0,  0,  0,  0,  0,  0,  0,  1, 35]])"
      ]
     },
     "execution_count": 22,
     "metadata": {},
     "output_type": "execute_result"
    }
   ],
   "source": [
    "from sklearn.metrics import confusion_matrix\n",
    "cm = confusion_matrix(y_test, y_predicted)\n",
    "cm"
   ]
  },
  {
   "cell_type": "code",
   "execution_count": 23,
   "metadata": {},
   "outputs": [
    {
     "data": {
      "text/plain": [
       "Text(69.0, 0.5, 'Truth')"
      ]
     },
     "execution_count": 23,
     "metadata": {},
     "output_type": "execute_result"
    },
    {
     "data": {
      "image/png": "[encoded data removed]",
      "text/plain": [
       "<Figure size 720x504 with 2 Axes>"
      ]
     },
     "metadata": {
      "needs_background": "light"
     },
     "output_type": "display_data"
    }
   ],
   "source": [
    "import seaborn as sn\n",
    "plt.figure(figsize = (10,7))\n",
    "sn.heatmap(cm, annot=True)\n",
    "plt.xlabel('Predicted')\n",
    "plt.ylabel('Truth')"
   ]
  },
  {
   "cell_type": "code",
   "execution_count": null,
   "metadata": {},
   "outputs": [],
   "source": []
  }
 ],
 "metadata": {
  "kernelspec": {
   "display_name": "Python 3",
   "language": "python",
   "name": "python3"
  },
  "language_info": {
   "codemirror_mode": {
    "name": "ipython",
    "version": 3
   },
   "file_extension": ".py",
   "mimetype": "text/x-python",
   "name": "python",
   "nbconvert_exporter": "python",
   "pygments_lexer": "ipython3",
   "version": "3.7.6"
  }
 },
 "nbformat": 4,
 "nbformat_minor": 4
}
